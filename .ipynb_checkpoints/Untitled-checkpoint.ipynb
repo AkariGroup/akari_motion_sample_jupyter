{
 "cells": [
  {
   "cell_type": "markdown",
   "id": "99e11cc7-77ce-43f9-a366-ee58d1e6a4f5",
   "metadata": {},
   "source": [
    "## 最初に実行"
   ]
  },
  {
   "cell_type": "code",
   "execution_count": 16,
   "id": "4c887e00-eea6-4843-8b94-606a6bc32220",
   "metadata": {},
   "outputs": [],
   "source": [
    "import time\n",
    "from akari_client import AkariClient\n",
    "akari = AkariClient()\n",
    "joints = akari.joints\n",
    "joints.enable_all_servo()"
   ]
  },
  {
   "cell_type": "markdown",
   "id": "b6cbe311-e3be-46f6-b207-710c3cd1e1d4",
   "metadata": {},
   "source": [
    "## モーション一覧"
   ]
  },
  {
   "cell_type": "markdown",
   "id": "73ea58fb-49be-4b9a-b154-51a8c62dcfba",
   "metadata": {},
   "source": [
    "### おじぎ"
   ]
  },
  {
   "cell_type": "code",
   "execution_count": 24,
   "id": "ebcf7920-01a1-4dfe-ae4e-e9fbbf046e99",
   "metadata": {},
   "outputs": [],
   "source": [
    "joints.set_joint_velocities(pan=9,tilt=9)\n",
    "joints.move_joint_positions(pan=0,tilt=0.4,sync=True)\n",
    "time.sleep(1)\n",
    "joints.set_joint_velocities(pan=5,tilt=5)\n",
    "joints.move_joint_positions(tilt=-0.4,sync=True)\n",
    "time.sleep(1)\n",
    "joints.move_joint_positions(tilt=0.4,sync=True)"
   ]
  },
  {
   "cell_type": "markdown",
   "id": "265f9c0a-15f8-4243-952c-8efe766482bc",
   "metadata": {},
   "source": [
    "### うなずく"
   ]
  },
  {
   "cell_type": "code",
   "execution_count": 27,
   "id": "f1f66ba3-b202-4d46-b3ae-d42b25903851",
   "metadata": {},
   "outputs": [],
   "source": [
    "joints.set_joint_velocities(pan=9,tilt=9)\n",
    "joints.move_joint_positions(pan=0,tilt=0.25,sync=True)\n",
    "joints.move_joint_positions(tilt=-0.25,sync=True)\n",
    "joints.move_joint_positions(tilt=0.25,sync=True)\n",
    "joints.move_joint_positions(tilt=-0.25,sync=True)\n",
    "joints.move_joint_positions(tilt=0.25,sync=True)"
   ]
  },
  {
   "cell_type": "markdown",
   "id": "f3a32572-6f8a-4ad8-a939-c854538c89cb",
   "metadata": {
    "tags": []
   },
   "source": [
    "### 首を振る"
   ]
  },
  {
   "cell_type": "code",
   "execution_count": 30,
   "id": "9c529189-626a-4ced-90d6-012a4b6657b3",
   "metadata": {},
   "outputs": [],
   "source": [
    "joints.set_joint_velocities(pan=9,tilt=9)\n",
    "joints.move_joint_positions(pan=-0.3,tilt=0,sync=True)\n",
    "joints.move_joint_positions(pan=0.3,sync=True)\n",
    "joints.move_joint_positions(pan=-0.3,sync=True)\n",
    "joints.move_joint_positions(pan=0.3,sync=True)"
   ]
  },
  {
   "cell_type": "markdown",
   "id": "c4a51cc0-6e56-40d5-a8b7-e715fb525d22",
   "metadata": {
    "tags": []
   },
   "source": [
    "### 落ち込む"
   ]
  },
  {
   "cell_type": "code",
   "execution_count": 34,
   "id": "807694de-4ae7-4217-bd16-19646d1f9aed",
   "metadata": {},
   "outputs": [],
   "source": [
    "joints.set_joint_velocities(pan=9,tilt=9)\n",
    "joints.move_joint_positions(pan=0,tilt=0.4,sync=True)\n",
    "time.sleep(1)\n",
    "joints.set_joint_velocities(pan=4,tilt=4)\n",
    "joints.move_joint_positions(pan=-0.3,tilt=-0.4,sync=True)\n",
    "time.sleep(2)\n",
    "joints.move_joint_positions(pan=0,tilt=0,sync=True)"
   ]
  },
  {
   "cell_type": "markdown",
   "id": "4290c657-319d-4ce5-b260-8159697e32ee",
   "metadata": {},
   "source": [
    "### はしゃぐ"
   ]
  },
  {
   "cell_type": "code",
   "execution_count": 109,
   "id": "91b035a9-1684-4600-b26f-7c7c96674219",
   "metadata": {},
   "outputs": [],
   "source": [
    "joints.set_joint_velocities(pan=8,tilt=9)\n",
    "joints.move_joint_positions(pan=0.1,tilt=-0.2,sync=True)\n",
    "joints.move_joint_positions(tilt=0.3,sync=True)\n",
    "joints.move_joint_positions(tilt=-0.2,sync=True)\n",
    "joints.move_joint_positions(tilt=0.3,sync=True)\n",
    "joints.move_joint_positions(pan=-0.1,tilt=-0.2,sync=True)\n",
    "joints.move_joint_positions(tilt=0.3,sync=True)\n",
    "joints.move_joint_positions(tilt=-0.2,sync=True)\n",
    "joints.move_joint_positions(tilt=0.3,sync=True)\n",
    "joints.move_joint_positions(pan=0.1,tilt=-0.2,sync=True)\n",
    "joints.move_joint_positions(tilt=0.3,sync=True)\n",
    "joints.move_joint_positions(tilt=-0.2,sync=True)\n",
    "joints.move_joint_positions(tilt=0.3,sync=True)\n",
    "joints.move_joint_positions(pan=-0.1,tilt=-0.2,sync=True)\n",
    "joints.move_joint_positions(tilt=0.3,sync=True)\n",
    "joints.move_joint_positions(tilt=-0.2,sync=True)\n",
    "joints.move_joint_positions(tilt=0.3,sync=True)\n",
    "time.sleep(1)\n",
    "joints.move_joint_positions(pan=0,tilt=0,sync=True)"
   ]
  },
  {
   "cell_type": "markdown",
   "id": "ba0a4796-6605-439a-a378-ed08c9ff76f5",
   "metadata": {
    "tags": []
   },
   "source": [
    "### 泣く"
   ]
  },
  {
   "cell_type": "code",
   "execution_count": 110,
   "id": "18a5feba-f25f-45e2-8953-6b20f0a18d66",
   "metadata": {},
   "outputs": [],
   "source": [
    "joints.set_joint_velocities(pan=5,tilt=5)\n",
    "joints.move_joint_positions(pan=-0.4,tilt=-0.4,sync=True)\n",
    "time.sleep(1)\n",
    "joints.set_joint_velocities(pan=5,tilt=3)\n",
    "joints.move_joint_positions(tilt=-0.3,sync=True)\n",
    "joints.move_joint_positions(tilt=-0.4,sync=True)\n",
    "joints.move_joint_positions(tilt=-0.3,sync=True)\n",
    "joints.move_joint_positions(tilt=-0.4,sync=True)\n",
    "joints.move_joint_positions(tilt=-0.3,sync=True)\n",
    "joints.move_joint_positions(tilt=-0.4,sync=True)\n",
    "time.sleep(2)\n",
    "joints.set_joint_velocities(pan=5,tilt=3)\n",
    "joints.move_joint_positions(pan=0,tilt=0,sync=True)"
   ]
  },
  {
   "cell_type": "markdown",
   "id": "2a5d773c-7fec-4232-8d6a-ceab616657a3",
   "metadata": {
    "tags": []
   },
   "source": [
    "### あきれる"
   ]
  },
  {
   "cell_type": "code",
   "execution_count": 116,
   "id": "858d64cb-cd73-4f5e-ae21-11398a04b23e",
   "metadata": {},
   "outputs": [],
   "source": [
    "joints.set_joint_velocities(pan=5,tilt=5)\n",
    "joints.move_joint_positions(pan=0.2,tilt=-0.4,sync=True)\n",
    "time.sleep(1)\n",
    "joints.move_joint_positions(pan=-0.2,sync=True)\n",
    "joints.move_joint_positions(pan=0.2,sync=True)\n",
    "joints.move_joint_positions(pan=-0.2,sync=True)\n",
    "joints.move_joint_positions(pan=0.2,sync=True)\n",
    "time.sleep(2)\n",
    "joints.move_joint_positions(pan=0,tilt=0,sync=True)"
   ]
  },
  {
   "cell_type": "markdown",
   "id": "57375491-db5f-497a-bcda-982a8f7f74c7",
   "metadata": {
    "tags": []
   },
   "source": [
    "### ぼんやりする"
   ]
  },
  {
   "cell_type": "code",
   "execution_count": 61,
   "id": "08760af9-4c49-438b-a243-58ad52137108",
   "metadata": {},
   "outputs": [],
   "source": [
    "joints.set_joint_velocities(pan=3,tilt=3)\n",
    "joints.move_joint_positions(pan=0.3,tilt=0.45,sync=True)\n",
    "time.sleep(2)\n",
    "joints.move_joint_positions(pan=-0.3,tilt=0.45,sync=True)\n",
    "time.sleep(2)\n",
    "joints.set_joint_velocities(pan=6,tilt=6)\n",
    "joints.move_joint_positions(pan=0,tilt=0,sync=True)"
   ]
  },
  {
   "cell_type": "markdown",
   "id": "fad14140-e20e-4430-b91c-3f8148745ef9",
   "metadata": {
    "tags": []
   },
   "source": [
    "### 笑う"
   ]
  },
  {
   "cell_type": "code",
   "execution_count": 82,
   "id": "711de8d8-a476-457e-af78-0db7f11d31ca",
   "metadata": {},
   "outputs": [],
   "source": [
    "joints.set_joint_velocities(pan=8,tilt=8)\n",
    "joints.move_joint_positions(pan=0,tilt=0.2,sync=True)\n",
    "joints.move_joint_positions(tilt=0,sync=True)\n",
    "joints.move_joint_positions(tilt=0.2,sync=True)\n",
    "joints.move_joint_positions(tilt=0,sync=True)\n",
    "joints.move_joint_positions(tilt=0.2,sync=True)\n",
    "joints.move_joint_positions(tilt=0,sync=True)"
   ]
  },
  {
   "cell_type": "markdown",
   "id": "36de8142-719e-4972-85f5-287a72608c9a",
   "metadata": {},
   "source": [
    "### 寝る"
   ]
  },
  {
   "cell_type": "code",
   "execution_count": 101,
   "id": "eadf03c7-380d-4188-a3d1-b66639f1eece",
   "metadata": {},
   "outputs": [],
   "source": [
    "joints.set_joint_velocities(pan=11,tilt=9)\n",
    "joints.move_joint_positions(pan=0,tilt=0.3,sync=True)\n",
    "time.sleep(1)\n",
    "joints.set_joint_velocities(pan=1.25,tilt=3)\n",
    "joints.move_joint_positions(pan=0.3,tilt=-0.4,sync=True)\n",
    "time.sleep(0.5)\n",
    "joints.set_joint_velocities(pan=5,tilt=9)\n",
    "joints.move_joint_positions(pan=0,tilt=0.3,sync=True)\n",
    "time.sleep(1)\n",
    "joints.set_joint_velocities(pan=1.25,tilt=3)\n",
    "joints.move_joint_positions(pan=0.3,tilt=-0.4,sync=True)\n",
    "time.sleep(0.5)\n",
    "joints.set_joint_velocities(pan=5,tilt=9)\n",
    "joints.move_joint_positions(pan=0,tilt=0.3,sync=True)\n",
    "time.sleep(1)\n",
    "joints.set_joint_velocities(pan=1.25,tilt=3)\n",
    "joints.move_joint_positions(pan=0.3,tilt=-0.4,sync=True)\n",
    "time.sleep(2)\n",
    "joints.set_joint_velocities(pan=6,tilt=9)\n",
    "joints.move_joint_positions(pan=0,tilt=0,sync=True)"
   ]
  }
 ],
 "metadata": {
  "kernelspec": {
   "display_name": "Python 3 (ipykernel)",
   "language": "python",
   "name": "python3"
  },
  "language_info": {
   "codemirror_mode": {
    "name": "ipython",
    "version": 3
   },
   "file_extension": ".py",
   "mimetype": "text/x-python",
   "name": "python",
   "nbconvert_exporter": "python",
   "pygments_lexer": "ipython3",
   "version": "3.10.6"
  }
 },
 "nbformat": 4,
 "nbformat_minor": 5
}
